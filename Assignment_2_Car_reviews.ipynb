{
 "cells": [
  {
   "cell_type": "markdown",
   "id": "d6ae8f1d",
   "metadata": {
    "id": "bae430ca"
   },
   "source": [
    "# Assignment 2 Car Reviews"
   ]
  },
  {
   "cell_type": "markdown",
   "id": "3802d6cd",
   "metadata": {},
   "source": [
    "In case you haven't downloaded spacy, please uncoment the cell below:"
   ]
  },
  {
   "cell_type": "code",
   "execution_count": 16,
   "id": "f4297d43",
   "metadata": {},
   "outputs": [],
   "source": [
    "#!python -m spacy download en"
   ]
  },
  {
   "cell_type": "code",
   "execution_count": 21,
   "id": "80506e07",
   "metadata": {
    "id": "80506e07"
   },
   "outputs": [],
   "source": [
    "import numpy as np\n",
    "import pandas as pd\n",
    "import re\n",
    "import spacy\n",
    "import time"
   ]
  },
  {
   "cell_type": "code",
   "execution_count": 22,
   "id": "5838d1ed",
   "metadata": {
    "id": "5838d1ed"
   },
   "outputs": [],
   "source": [
    "nlp = spacy.load(\"en_core_web_sm\")"
   ]
  },
  {
   "cell_type": "markdown",
   "id": "7d54c0b6",
   "metadata": {},
   "source": [
    "## Part 1 Baseline solution - Naïve Bayes classifier\n",
    "\n",
    "#### Step 1: Panadas will be used to read the csv file."
   ]
  },
  {
   "cell_type": "code",
   "execution_count": 23,
   "id": "a8f00eaa",
   "metadata": {
    "id": "a8f00eaa"
   },
   "outputs": [
    {
     "data": {
      "text/plain": [
       "(1382, 2)"
      ]
     },
     "execution_count": 23,
     "metadata": {},
     "output_type": "execute_result"
    }
   ],
   "source": [
    "df = pd.read_csv('car-reviews.csv')\n",
    "df.shape"
   ]
  },
  {
   "cell_type": "code",
   "execution_count": 24,
   "id": "DWwg3eiGCGZJ",
   "metadata": {
    "colab": {
     "base_uri": "https://localhost:8080/"
    },
    "id": "DWwg3eiGCGZJ",
    "outputId": "4651d74c-ae29-4602-9011-0288efa104ab"
   },
   "outputs": [
    {
     "data": {
      "text/html": [
       "<div>\n",
       "<style scoped>\n",
       "    .dataframe tbody tr th:only-of-type {\n",
       "        vertical-align: middle;\n",
       "    }\n",
       "\n",
       "    .dataframe tbody tr th {\n",
       "        vertical-align: top;\n",
       "    }\n",
       "\n",
       "    .dataframe thead th {\n",
       "        text-align: right;\n",
       "    }\n",
       "</style>\n",
       "<table border=\"1\" class=\"dataframe\">\n",
       "  <thead>\n",
       "    <tr style=\"text-align: right;\">\n",
       "      <th></th>\n",
       "      <th>Sentiment</th>\n",
       "      <th>Review</th>\n",
       "    </tr>\n",
       "  </thead>\n",
       "  <tbody>\n",
       "    <tr>\n",
       "      <th>1377</th>\n",
       "      <td>Pos</td>\n",
       "      <td>In June we bought the Sony Limited Edition Fo...</td>\n",
       "    </tr>\n",
       "    <tr>\n",
       "      <th>1378</th>\n",
       "      <td>Pos</td>\n",
       "      <td>After 140 000 miles  we decided to replace my...</td>\n",
       "    </tr>\n",
       "    <tr>\n",
       "      <th>1379</th>\n",
       "      <td>Pos</td>\n",
       "      <td>The Ford Focus is a great little record setti...</td>\n",
       "    </tr>\n",
       "    <tr>\n",
       "      <th>1380</th>\n",
       "      <td>Pos</td>\n",
       "      <td>I needed a new car because my hyundai excel 9...</td>\n",
       "    </tr>\n",
       "    <tr>\n",
       "      <th>1381</th>\n",
       "      <td>Pos</td>\n",
       "      <td>The 2000 Ford Focus SE 4 door sedan has a spa...</td>\n",
       "    </tr>\n",
       "  </tbody>\n",
       "</table>\n",
       "</div>"
      ],
      "text/plain": [
       "     Sentiment                                             Review\n",
       "1377       Pos   In June we bought the Sony Limited Edition Fo...\n",
       "1378       Pos   After 140 000 miles  we decided to replace my...\n",
       "1379       Pos   The Ford Focus is a great little record setti...\n",
       "1380       Pos   I needed a new car because my hyundai excel 9...\n",
       "1381       Pos   The 2000 Ford Focus SE 4 door sedan has a spa..."
      ]
     },
     "execution_count": 24,
     "metadata": {},
     "output_type": "execute_result"
    }
   ],
   "source": [
    "df.tail()"
   ]
  },
  {
   "cell_type": "markdown",
   "id": "26e0ad50",
   "metadata": {},
   "source": [
    "#### Step 2: Text Preprocessing\n",
    "\n",
    "Following steps will be taken as text processing:\n",
    "\n",
    "1) Remove punctuation and turn the words into case-insensitive way - The `clean_up` function was created \n",
    "\n",
    "2) Remove stopword - The `stop_word` function was created. The stop words are based on `en_core_web_sm` language model in spacy. \n",
    "\n",
    "3) Lemmatization - The `lemmas` was built. The main purpose is to get turn the words back to their basic form. \n",
    "    "
   ]
  },
  {
   "cell_type": "code",
   "execution_count": 25,
   "id": "b9cfac67",
   "metadata": {
    "id": "b9cfac67"
   },
   "outputs": [],
   "source": [
    "def clean_up(doc):\n",
    "    text = (re.sub('\\W+', ' ',doc)).lower()\n",
    "    text = text.strip()\n",
    "    return text\n",
    "    \n",
    "def stop_word(doc):  \n",
    "    doc = nlp(doc, disable=[\"parser\", \"ner\"])\n",
    "    tokens = [token for token in doc if not token.is_stop]\n",
    "    return tokens\n",
    "\n",
    "def lemmas(doc):  \n",
    "    doc = nlp(doc, disable=[\"parser\", \"ner\"])\n",
    "    lemmas = []\n",
    "    for token in doc:\n",
    "        lemmas.append(token.lemma_)\n",
    "    \n",
    "    return lemmas\n",
    "\n",
    "def processed_data(df):\n",
    "    df = df.apply(lambda x: clean_up(x))\n",
    "    df = df.apply(lambda x: stop_word(x))\n",
    "    f = lambda x: x.text\n",
    "    df = df.apply(lambda x: list(map(f,x)))\n",
    "    df = df.apply(lambda x: ' '.join(x))\n",
    "    df = df.apply(lambda x: lemmas(x))\n",
    "    df = df.apply(lambda x: ' '.join(x))\n",
    "    return df"
   ]
  },
  {
   "cell_type": "markdown",
   "id": "6faa4a9b",
   "metadata": {},
   "source": [
    "To make it more clear, a new column \"Processed\" will be created to store the processed data in the dataframe. \n",
    "\n",
    "(`Remark` it will take around 48 seconds to load)"
   ]
  },
  {
   "cell_type": "code",
   "execution_count": 26,
   "id": "f7cf5878",
   "metadata": {},
   "outputs": [
    {
     "data": {
      "text/html": [
       "<div>\n",
       "<style scoped>\n",
       "    .dataframe tbody tr th:only-of-type {\n",
       "        vertical-align: middle;\n",
       "    }\n",
       "\n",
       "    .dataframe tbody tr th {\n",
       "        vertical-align: top;\n",
       "    }\n",
       "\n",
       "    .dataframe thead th {\n",
       "        text-align: right;\n",
       "    }\n",
       "</style>\n",
       "<table border=\"1\" class=\"dataframe\">\n",
       "  <thead>\n",
       "    <tr style=\"text-align: right;\">\n",
       "      <th></th>\n",
       "      <th>Sentiment</th>\n",
       "      <th>Review</th>\n",
       "      <th>Proccesed</th>\n",
       "    </tr>\n",
       "  </thead>\n",
       "  <tbody>\n",
       "    <tr>\n",
       "      <th>0</th>\n",
       "      <td>Neg</td>\n",
       "      <td>In 1992 we bought a new Taurus and we really ...</td>\n",
       "      <td>1992 buy new taurus love 1999 decide try new t...</td>\n",
       "    </tr>\n",
       "    <tr>\n",
       "      <th>1</th>\n",
       "      <td>Neg</td>\n",
       "      <td>The last business trip  I drove to San Franci...</td>\n",
       "      <td>business trip drive san francisco go hertz ren...</td>\n",
       "    </tr>\n",
       "    <tr>\n",
       "      <th>2</th>\n",
       "      <td>Neg</td>\n",
       "      <td>My husband and I purchased a 1990 Ford F250 a...</td>\n",
       "      <td>husband purchase 1990 ford f250 problem own ve...</td>\n",
       "    </tr>\n",
       "    <tr>\n",
       "      <th>3</th>\n",
       "      <td>Neg</td>\n",
       "      <td>I feel I have a thorough opinion of this truc...</td>\n",
       "      <td>feel thorough opinion truck compare post evalu...</td>\n",
       "    </tr>\n",
       "    <tr>\n",
       "      <th>4</th>\n",
       "      <td>Neg</td>\n",
       "      <td>AS a mother of 3  all of whom are still in ca...</td>\n",
       "      <td>mother 3 carseat logical thing trade 200sx min...</td>\n",
       "    </tr>\n",
       "    <tr>\n",
       "      <th>...</th>\n",
       "      <td>...</td>\n",
       "      <td>...</td>\n",
       "      <td>...</td>\n",
       "    </tr>\n",
       "    <tr>\n",
       "      <th>1377</th>\n",
       "      <td>Pos</td>\n",
       "      <td>In June we bought the Sony Limited Edition Fo...</td>\n",
       "      <td>june buy sony limited edition focus se 4 dr se...</td>\n",
       "    </tr>\n",
       "    <tr>\n",
       "      <th>1378</th>\n",
       "      <td>Pos</td>\n",
       "      <td>After 140 000 miles  we decided to replace my...</td>\n",
       "      <td>140 000 mile decide replace wife 1990 toyota c...</td>\n",
       "    </tr>\n",
       "    <tr>\n",
       "      <th>1379</th>\n",
       "      <td>Pos</td>\n",
       "      <td>The Ford Focus is a great little record setti...</td>\n",
       "      <td>ford focus great little record set car car win...</td>\n",
       "    </tr>\n",
       "    <tr>\n",
       "      <th>1380</th>\n",
       "      <td>Pos</td>\n",
       "      <td>I needed a new car because my hyundai excel 9...</td>\n",
       "      <td>need new car hyundai excel 91 decide shop nice...</td>\n",
       "    </tr>\n",
       "    <tr>\n",
       "      <th>1381</th>\n",
       "      <td>Pos</td>\n",
       "      <td>The 2000 Ford Focus SE 4 door sedan has a spa...</td>\n",
       "      <td>2000 ford focus se 4 door sedan spacious inter...</td>\n",
       "    </tr>\n",
       "  </tbody>\n",
       "</table>\n",
       "<p>1382 rows × 3 columns</p>\n",
       "</div>"
      ],
      "text/plain": [
       "     Sentiment                                             Review  \\\n",
       "0          Neg   In 1992 we bought a new Taurus and we really ...   \n",
       "1          Neg   The last business trip  I drove to San Franci...   \n",
       "2          Neg   My husband and I purchased a 1990 Ford F250 a...   \n",
       "3          Neg   I feel I have a thorough opinion of this truc...   \n",
       "4          Neg   AS a mother of 3  all of whom are still in ca...   \n",
       "...        ...                                                ...   \n",
       "1377       Pos   In June we bought the Sony Limited Edition Fo...   \n",
       "1378       Pos   After 140 000 miles  we decided to replace my...   \n",
       "1379       Pos   The Ford Focus is a great little record setti...   \n",
       "1380       Pos   I needed a new car because my hyundai excel 9...   \n",
       "1381       Pos   The 2000 Ford Focus SE 4 door sedan has a spa...   \n",
       "\n",
       "                                              Proccesed  \n",
       "0     1992 buy new taurus love 1999 decide try new t...  \n",
       "1     business trip drive san francisco go hertz ren...  \n",
       "2     husband purchase 1990 ford f250 problem own ve...  \n",
       "3     feel thorough opinion truck compare post evalu...  \n",
       "4     mother 3 carseat logical thing trade 200sx min...  \n",
       "...                                                 ...  \n",
       "1377  june buy sony limited edition focus se 4 dr se...  \n",
       "1378  140 000 mile decide replace wife 1990 toyota c...  \n",
       "1379  ford focus great little record set car car win...  \n",
       "1380  need new car hyundai excel 91 decide shop nice...  \n",
       "1381  2000 ford focus se 4 door sedan spacious inter...  \n",
       "\n",
       "[1382 rows x 3 columns]"
      ]
     },
     "execution_count": 26,
     "metadata": {},
     "output_type": "execute_result"
    }
   ],
   "source": [
    "p = processed_data(df['Review'])\n",
    "df[\"Proccesed\"] = p\n",
    "df"
   ]
  },
  {
   "cell_type": "markdown",
   "id": "e6d92a27",
   "metadata": {},
   "source": [
    "Moreover, the below section demonstrates that words with the same stem have been appropriately recognised and treated as variations of the stem. \n",
    "\n",
    "Following four examples will be shown. All these words are selected from the `car-reviews.csv`\n",
    "\n",
    "1) `driving`, `drove`, `drive`, `driven` - They are different tenses of `drive`\n",
    "\n",
    "2) `give`, `gave`, `give` - They are different tenses of `give`\n",
    "\n",
    "3) `seen`, `saw`, `see` - They are different tenses of `see`\n",
    "\n",
    "4) `expense`, `expenses` - The difference is the plural form\n",
    "    "
   ]
  },
  {
   "cell_type": "code",
   "execution_count": 7,
   "id": "0a4597e7",
   "metadata": {},
   "outputs": [
    {
     "name": "stdout",
     "output_type": "stream",
     "text": [
      "Result of Example 1: ['drive', 'drive', 'drive', 'drive']\n",
      "Result of Example 2: ['give', 'give', 'give']\n",
      "Result of Example 3: ['see', 'see', 'see']\n",
      "Result of Example 4: ['expense', 'expense']\n"
     ]
    }
   ],
   "source": [
    "Example_1 = nlp('driving drove drive driven')\n",
    "print (f\"Result of Example 1: {lemmas(Example_1)}\")\n",
    "\n",
    "Example_2 = nlp('give gave given')\n",
    "print(f\"Result of Example 2: {lemmas(Example_2)}\")\n",
    "\n",
    "Example_3 = nlp('seen saw see')\n",
    "print(f\"Result of Example 3: {lemmas(Example_3)}\")\n",
    "\n",
    "Example_4 = nlp('expense expenses')\n",
    "print(f\"Result of Example 4: {lemmas(Example_4)}\")"
   ]
  },
  {
   "cell_type": "markdown",
   "id": "0a72d3d5",
   "metadata": {},
   "source": [
    "#### Step 3: CountVectorizer"
   ]
  },
  {
   "cell_type": "code",
   "execution_count": 8,
   "id": "44c53319",
   "metadata": {
    "id": "44c53319"
   },
   "outputs": [],
   "source": [
    "from sklearn.feature_extraction.text import CountVectorizer"
   ]
  },
  {
   "cell_type": "markdown",
   "id": "81da7428",
   "metadata": {},
   "source": [
    "The number of times that a word (stem) appears\n",
    "\n",
    "(`Remark` - It takes around 8-10 seconds to load)"
   ]
  },
  {
   "cell_type": "code",
   "execution_count": 9,
   "id": "f5084190",
   "metadata": {
    "colab": {
     "base_uri": "https://localhost:8080/"
    },
    "id": "f5084190",
    "outputId": "3c2455dd-b017-4db8-d703-b4b02a08b200"
   },
   "outputs": [
    {
     "data": {
      "text/html": [
       "<div>\n",
       "<style scoped>\n",
       "    .dataframe tbody tr th:only-of-type {\n",
       "        vertical-align: middle;\n",
       "    }\n",
       "\n",
       "    .dataframe tbody tr th {\n",
       "        vertical-align: top;\n",
       "    }\n",
       "\n",
       "    .dataframe thead th {\n",
       "        text-align: right;\n",
       "    }\n",
       "</style>\n",
       "<table border=\"1\" class=\"dataframe\">\n",
       "  <thead>\n",
       "    <tr style=\"text-align: right;\">\n",
       "      <th></th>\n",
       "      <th>00</th>\n",
       "      <th>000</th>\n",
       "      <th>0000</th>\n",
       "      <th>000k</th>\n",
       "      <th>000kms</th>\n",
       "      <th>00a</th>\n",
       "      <th>00p</th>\n",
       "      <th>01</th>\n",
       "      <th>0110</th>\n",
       "      <th>02</th>\n",
       "      <th>...</th>\n",
       "      <th>ztec</th>\n",
       "      <th>ztech</th>\n",
       "      <th>zts</th>\n",
       "      <th>ztw</th>\n",
       "      <th>zx</th>\n",
       "      <th>zx2</th>\n",
       "      <th>zx2s</th>\n",
       "      <th>zx3</th>\n",
       "      <th>zx3s</th>\n",
       "      <th>zx5</th>\n",
       "    </tr>\n",
       "  </thead>\n",
       "  <tbody>\n",
       "    <tr>\n",
       "      <th>0</th>\n",
       "      <td>0</td>\n",
       "      <td>0</td>\n",
       "      <td>0</td>\n",
       "      <td>0</td>\n",
       "      <td>0</td>\n",
       "      <td>0</td>\n",
       "      <td>0</td>\n",
       "      <td>0</td>\n",
       "      <td>0</td>\n",
       "      <td>0</td>\n",
       "      <td>...</td>\n",
       "      <td>0</td>\n",
       "      <td>0</td>\n",
       "      <td>0</td>\n",
       "      <td>0</td>\n",
       "      <td>0</td>\n",
       "      <td>0</td>\n",
       "      <td>0</td>\n",
       "      <td>0</td>\n",
       "      <td>0</td>\n",
       "      <td>0</td>\n",
       "    </tr>\n",
       "    <tr>\n",
       "      <th>1</th>\n",
       "      <td>0</td>\n",
       "      <td>0</td>\n",
       "      <td>0</td>\n",
       "      <td>0</td>\n",
       "      <td>0</td>\n",
       "      <td>0</td>\n",
       "      <td>0</td>\n",
       "      <td>0</td>\n",
       "      <td>0</td>\n",
       "      <td>0</td>\n",
       "      <td>...</td>\n",
       "      <td>0</td>\n",
       "      <td>0</td>\n",
       "      <td>0</td>\n",
       "      <td>0</td>\n",
       "      <td>0</td>\n",
       "      <td>0</td>\n",
       "      <td>0</td>\n",
       "      <td>0</td>\n",
       "      <td>0</td>\n",
       "      <td>0</td>\n",
       "    </tr>\n",
       "    <tr>\n",
       "      <th>2</th>\n",
       "      <td>0</td>\n",
       "      <td>2</td>\n",
       "      <td>0</td>\n",
       "      <td>0</td>\n",
       "      <td>0</td>\n",
       "      <td>0</td>\n",
       "      <td>0</td>\n",
       "      <td>0</td>\n",
       "      <td>0</td>\n",
       "      <td>0</td>\n",
       "      <td>...</td>\n",
       "      <td>0</td>\n",
       "      <td>0</td>\n",
       "      <td>0</td>\n",
       "      <td>0</td>\n",
       "      <td>0</td>\n",
       "      <td>0</td>\n",
       "      <td>0</td>\n",
       "      <td>0</td>\n",
       "      <td>0</td>\n",
       "      <td>0</td>\n",
       "    </tr>\n",
       "    <tr>\n",
       "      <th>3</th>\n",
       "      <td>0</td>\n",
       "      <td>1</td>\n",
       "      <td>0</td>\n",
       "      <td>0</td>\n",
       "      <td>0</td>\n",
       "      <td>0</td>\n",
       "      <td>0</td>\n",
       "      <td>0</td>\n",
       "      <td>0</td>\n",
       "      <td>0</td>\n",
       "      <td>...</td>\n",
       "      <td>0</td>\n",
       "      <td>0</td>\n",
       "      <td>0</td>\n",
       "      <td>0</td>\n",
       "      <td>0</td>\n",
       "      <td>0</td>\n",
       "      <td>0</td>\n",
       "      <td>0</td>\n",
       "      <td>0</td>\n",
       "      <td>0</td>\n",
       "    </tr>\n",
       "    <tr>\n",
       "      <th>4</th>\n",
       "      <td>0</td>\n",
       "      <td>0</td>\n",
       "      <td>0</td>\n",
       "      <td>0</td>\n",
       "      <td>0</td>\n",
       "      <td>0</td>\n",
       "      <td>0</td>\n",
       "      <td>0</td>\n",
       "      <td>0</td>\n",
       "      <td>0</td>\n",
       "      <td>...</td>\n",
       "      <td>0</td>\n",
       "      <td>0</td>\n",
       "      <td>0</td>\n",
       "      <td>0</td>\n",
       "      <td>0</td>\n",
       "      <td>0</td>\n",
       "      <td>0</td>\n",
       "      <td>0</td>\n",
       "      <td>0</td>\n",
       "      <td>0</td>\n",
       "    </tr>\n",
       "  </tbody>\n",
       "</table>\n",
       "<p>5 rows × 12877 columns</p>\n",
       "</div>"
      ],
      "text/plain": [
       "  00 000 0000 000k 000kms 00a 00p 01 0110 02  ... ztec ztech zts ztw zx zx2  \\\n",
       "0  0   0    0    0      0   0   0  0    0  0  ...    0     0   0   0  0   0   \n",
       "1  0   0    0    0      0   0   0  0    0  0  ...    0     0   0   0  0   0   \n",
       "2  0   2    0    0      0   0   0  0    0  0  ...    0     0   0   0  0   0   \n",
       "3  0   1    0    0      0   0   0  0    0  0  ...    0     0   0   0  0   0   \n",
       "4  0   0    0    0      0   0   0  0    0  0  ...    0     0   0   0  0   0   \n",
       "\n",
       "  zx2s zx3 zx3s zx5  \n",
       "0    0   0    0   0  \n",
       "1    0   0    0   0  \n",
       "2    0   0    0   0  \n",
       "3    0   0    0   0  \n",
       "4    0   0    0   0  \n",
       "\n",
       "[5 rows x 12877 columns]"
      ]
     },
     "execution_count": 9,
     "metadata": {},
     "output_type": "execute_result"
    }
   ],
   "source": [
    "cv = CountVectorizer()\n",
    "corpus = list(df[\"Proccesed\"])\n",
    "\n",
    "vectorizer = CountVectorizer()\n",
    "X = vectorizer.fit_transform(corpus)\n",
    "Y = vectorizer.get_feature_names()\n",
    "Z = np.array(Y)\n",
    "\n",
    "Z = Z.reshape((1, len(Y)))\n",
    "Vec = X.toarray()\n",
    "\n",
    "cv_matrix = np.vstack((Z,Vec))\n",
    "cv_result= pd.DataFrame(cv_matrix)\n",
    "cv_result.columns = cv_result.iloc[0]\n",
    "cv_result = cv_result.reindex(cv_result.index.drop(0)).reset_index(drop=True)\n",
    "cv_result.columns.name = None\n",
    "cv_result.head()"
   ]
  },
  {
   "cell_type": "markdown",
   "id": "2b3909c5",
   "metadata": {},
   "source": [
    "##### Step 4 Train Test Split and Load the Naive Bayes Classifier\n",
    "\n",
    "In the section below, we will conduct the following steps:\n",
    "\n",
    "1) Split the data between training and testing data sets randomly \n",
    " \n",
    "2) Load the Naive Bayes Classifier"
   ]
  },
  {
   "cell_type": "code",
   "execution_count": 10,
   "id": "c5487151",
   "metadata": {},
   "outputs": [],
   "source": [
    "from sklearn.model_selection import train_test_split"
   ]
  },
  {
   "cell_type": "code",
   "execution_count": 11,
   "id": "b6cb0f05",
   "metadata": {},
   "outputs": [],
   "source": [
    "X = Vec\n",
    "y = df['Sentiment']"
   ]
  },
  {
   "cell_type": "markdown",
   "id": "a2a3c00f",
   "metadata": {},
   "source": [
    "80% of the data has been used to train the classification model, and that the remaining 20% of the data set has been used as test data\n",
    "\n",
    "As our data set has 1381, the size of training data set will be 1381*80%  = 1104.8 (1105)"
   ]
  },
  {
   "cell_type": "code",
   "execution_count": 12,
   "id": "959c60e2",
   "metadata": {},
   "outputs": [],
   "source": [
    "X_train, X_test, y_train, y_test =  train_test_split(X, y, test_size=0.2, random_state=1)"
   ]
  },
  {
   "cell_type": "code",
   "execution_count": 13,
   "id": "2448eab1",
   "metadata": {},
   "outputs": [
    {
     "name": "stdout",
     "output_type": "stream",
     "text": [
      "The number of row in the dependent varibables is: 1105\n",
      "The number of row in the the independent varibable is: 1105\n"
     ]
    }
   ],
   "source": [
    "print(\"The number of row in the dependent varibables is:\", X_train.shape[0])\n",
    "print(\"The number of row in the the independent varibable is:\", y_train.shape[0])"
   ]
  },
  {
   "cell_type": "markdown",
   "id": "63b8056e",
   "metadata": {},
   "source": [
    "After spliting the data, we will include our data into the Naive Bayes Classifier. "
   ]
  },
  {
   "cell_type": "code",
   "execution_count": 14,
   "id": "846f66d2",
   "metadata": {},
   "outputs": [],
   "source": [
    "from sklearn.naive_bayes import MultinomialNB"
   ]
  },
  {
   "cell_type": "code",
   "execution_count": 15,
   "id": "c39dd29d",
   "metadata": {},
   "outputs": [
    {
     "data": {
      "text/plain": [
       "MultinomialNB()"
      ]
     },
     "execution_count": 15,
     "metadata": {},
     "output_type": "execute_result"
    }
   ],
   "source": [
    "Train_NB = MultinomialNB()\n",
    "Train_NB.fit(X_train,y_train)"
   ]
  },
  {
   "cell_type": "code",
   "execution_count": 16,
   "id": "184fe784",
   "metadata": {},
   "outputs": [],
   "source": [
    "predicted = Train_NB.predict(X_test)"
   ]
  },
  {
   "cell_type": "markdown",
   "id": "ed3e6872",
   "metadata": {},
   "source": [
    "#### Step 5  Performance of the Naive Bayes Classifier"
   ]
  },
  {
   "cell_type": "markdown",
   "id": "d10021a0",
   "metadata": {},
   "source": [
    "Below are the libraries we will use to find out the performance of the Naive Bayes Classifier"
   ]
  },
  {
   "cell_type": "code",
   "execution_count": 17,
   "id": "8e9cfddc",
   "metadata": {},
   "outputs": [],
   "source": [
    "from sklearn.metrics import accuracy_score\n",
    "from sklearn.metrics import confusion_matrix\n",
    "from sklearn.metrics import classification_report,confusion_matrix\n",
    "\n",
    "import seaborn as sns\n",
    "import matplotlib.pyplot as plt\n",
    "%matplotlib inline"
   ]
  },
  {
   "cell_type": "markdown",
   "id": "3cc8a2c3",
   "metadata": {},
   "source": [
    "The cell below will be able to give us the initial result of the Naive Bayes Classifier, based on the car review data."
   ]
  },
  {
   "cell_type": "code",
   "execution_count": 18,
   "id": "49df4666",
   "metadata": {},
   "outputs": [
    {
     "name": "stdout",
     "output_type": "stream",
     "text": [
      "1) The confusion matrix is \n",
      " \n",
      " [[104  35]\n",
      " [ 30 108]] \n",
      "\n",
      "2) Below is the classifcation repot: \n",
      " \n",
      "               precision    recall  f1-score   support\n",
      "\n",
      "         Neg       0.78      0.75      0.76       139\n",
      "         Pos       0.76      0.78      0.77       138\n",
      "\n",
      "    accuracy                           0.77       277\n",
      "   macro avg       0.77      0.77      0.77       277\n",
      "weighted avg       0.77      0.77      0.77       277\n",
      " \n",
      "\n",
      "3) In this exercise, the accuracy of the Multinomial Naive Bayes Classifier is: 0.7653429602888087\n"
     ]
    }
   ],
   "source": [
    "print('1) The confusion matrix is \\n', '\\n', confusion_matrix(y_test,predicted), '\\n')\n",
    "print('2) Below is the classifcation repot: \\n', '\\n', classification_report(y_test,predicted), '\\n')\n",
    "print(\"3) In this exercise, the accuracy of the Multinomial Naive Bayes Classifier is:\", accuracy_score(y_test,predicted))"
   ]
  },
  {
   "cell_type": "markdown",
   "id": "7f5e4055",
   "metadata": {},
   "source": [
    "To covert the result in a readable format, we will use the enhance the confusion matrix layout. Please see beloew\n",
    "\n",
    "Reference for the data visualization: (Confusion Matrix Visualization, 2022)"
   ]
  },
  {
   "cell_type": "code",
   "execution_count": 19,
   "id": "cd8b64f0",
   "metadata": {},
   "outputs": [
    {
     "data": {
      "text/plain": [
       "[Text(0, 0.5, 'Negative'), Text(0, 1.5, 'Positive')]"
      ]
     },
     "execution_count": 19,
     "metadata": {},
     "output_type": "execute_result"
    },
    {
     "data": {
      "image/png": "[encoded data removed]",
      "text/plain": [
       "<Figure size 720x432 with 2 Axes>"
      ]
     },
     "metadata": {
      "needs_background": "light"
     },
     "output_type": "display_data"
    }
   ],
   "source": [
    "r = confusion_matrix(y_test,predicted)\n",
    "\n",
    "plt.figure(figsize=(10,6))\n",
    "sns.set_context(font_scale=1.5)\n",
    "group_names = ['True Negative','False Positive','False Negative','True Positive']\n",
    "group_counts = ['{0:0.0f}'.format(value) for value in r.flatten()]\n",
    "group_percentages = ['{0:.2%}'.format(value) for value in r.flatten()/np.sum(r)]\n",
    "labels = [f' {v1}\\n{v2}\\n{v3}' for v1, v2, v3 in zip(group_names,group_counts,group_percentages)]\n",
    "labels = np.asarray(labels).reshape(2,2)\n",
    "table = sns.heatmap(r,cmap=\"YlGnBu\",fmt='', annot= labels)\n",
    "\n",
    "table.set_title('Confusion Matrix - Naive Bayes Classifier \\n')\n",
    "table.set_xlabel('Predicated Sentiment')\n",
    "table.set_ylabel('Actual Sentiment')\n",
    "table.xaxis.set_ticklabels(['Negative','Positive'])\n",
    "table.yaxis.set_ticklabels(['Negative','Positive'])"
   ]
  },
  {
   "cell_type": "markdown",
   "id": "21bef060",
   "metadata": {},
   "source": [
    "## Part 2 Improved Solution"
   ]
  },
  {
   "cell_type": "markdown",
   "id": "cc574f4f",
   "metadata": {},
   "source": [
    "#### Step A: Set Up N-grams\n",
    "\n",
    "We will try out different N-grams possibilities to select the most accurate one, which will be (1,4).\n",
    "\n",
    "By using N-grams, the accuracy increased from 76.53 to 77.62\n",
    "\n",
    "Reference: (How to use CountVectorizer for n-gram analysis, 2022)\n",
    "\n",
    "(`Remark` It takes around  2 -3 minutes to load 8 different ngram scenarios.)"
   ]
  },
  {
   "cell_type": "code",
   "execution_count": 20,
   "id": "f263afe6",
   "metadata": {},
   "outputs": [
    {
     "name": "stdout",
     "output_type": "stream",
     "text": [
      "The accuracy of the Multinomial Naive Bayes Classifier with n_gram (1, 2), is: 0.7581227436823105\n",
      "The accuracy of the Multinomial Naive Bayes Classifier with n_gram (1, 3), is: 0.7725631768953068\n",
      "The accuracy of the Multinomial Naive Bayes Classifier with n_gram (1, 4), is: 0.776173285198556\n",
      "The accuracy of the Multinomial Naive Bayes Classifier with n_gram (1, 5), is: 0.7472924187725631\n",
      "The accuracy of the Multinomial Naive Bayes Classifier with n_gram (2, 2), is: 0.7292418772563177\n",
      "The accuracy of the Multinomial Naive Bayes Classifier with n_gram (2, 3), is: 0.740072202166065\n",
      "The accuracy of the Multinomial Naive Bayes Classifier with n_gram (2, 4), is: 0.7075812274368231\n",
      "The accuracy of the Multinomial Naive Bayes Classifier with n_gram (2, 5), is: 0.6931407942238267\n",
      "301.875\n"
     ]
    }
   ],
   "source": [
    "start = time.process_time()\n",
    "\n",
    "corpus_2 = list(df[\"Proccesed\"])\n",
    "y2 = df['Sentiment']\n",
    "\n",
    "for j in range (1,3):\n",
    "    for i in range (2,6):\n",
    "        vectorizer2 = CountVectorizer(ngram_range = (j,i))\n",
    "        X2 = vectorizer2.fit_transform(corpus_2)\n",
    "        Y2 = vectorizer2.get_feature_names()\n",
    "        Z2 = np.array(Y2)\n",
    "\n",
    "        Z2 = Z2.reshape((1, len(Y2)))\n",
    "        X2 = X2.toarray()\n",
    "\n",
    "        X_train, X_test, y_train, y_test =  train_test_split(X2, y2, test_size=0.2, random_state=1)\n",
    "        Train_NB.fit(X_train,y_train)\n",
    "\n",
    "        predicted2= Train_NB.predict(X_test)\n",
    "\n",
    "        corectness2 = accuracy_score(y_test,predicted2)\n",
    "        print(f\"The accuracy of the Multinomial Naive Bayes Classifier with n_gram ({j}, {i}), is:\", corectness2)\n",
    "        \n",
    "print(time.process_time() - start)"
   ]
  },
  {
   "cell_type": "markdown",
   "id": "d0105e56",
   "metadata": {},
   "source": [
    "#### Step B: Using Tf-idf\n",
    "\n",
    "Also, instead of Countvectorizer, we will try using TFIDF to vectorize the features in the cotrpus. The formula can be found in (Rahman et al., 2020)"
   ]
  },
  {
   "cell_type": "code",
   "execution_count": 21,
   "id": "b1ea9cc4",
   "metadata": {},
   "outputs": [],
   "source": [
    "from sklearn.feature_extraction.text import TfidfVectorizer"
   ]
  },
  {
   "cell_type": "markdown",
   "id": "1280f684",
   "metadata": {},
   "source": [
    "Tf-idf with ngram (1,4), the accuracy is 75.81"
   ]
  },
  {
   "cell_type": "code",
   "execution_count": 22,
   "id": "7d2fc387",
   "metadata": {},
   "outputs": [
    {
     "name": "stdout",
     "output_type": "stream",
     "text": [
      "After using TFIDF, the accuracy of the Multinomial Naive Bayes Classifier with n_gram (1,4) is: 0.7581227436823105\n"
     ]
    }
   ],
   "source": [
    "y3 = df['Sentiment']\n",
    "\n",
    "vectorizer3 = TfidfVectorizer(ngram_range = (1,4))\n",
    "X3 = vectorizer3.fit_transform(corpus_2)\n",
    "Y3 = vectorizer3.get_feature_names()\n",
    "Z3 = np.array(Y3)\n",
    "\n",
    "Z3 = Z3.reshape((1, len(Y3)))\n",
    "X3 = X3.toarray()\n",
    "\n",
    "X_train, X_test, y_train, y_test =  train_test_split(X3, y3, test_size=0.2, random_state=1)\n",
    "Train_NB.fit(X_train,y_train)\n",
    "\n",
    "predicted3= Train_NB.predict(X_test)\n",
    "\n",
    "corectness3 = accuracy_score(y_test,predicted3)\n",
    "print(f\"After using TFIDF, the accuracy of the Multinomial Naive Bayes Classifier with n_gram (1,4) is:\", corectness3)"
   ]
  },
  {
   "cell_type": "markdown",
   "id": "d5d8e378",
   "metadata": {},
   "source": [
    "Tf-idf without ngram, the accuracy is 78.70"
   ]
  },
  {
   "cell_type": "code",
   "execution_count": 23,
   "id": "d6317224",
   "metadata": {},
   "outputs": [
    {
     "name": "stdout",
     "output_type": "stream",
     "text": [
      "After using TFIDF, the accuracy of the Multinomial Naive Bayes Classifier without n_gram is: 0.7870036101083032\n"
     ]
    }
   ],
   "source": [
    "y3 = df['Sentiment']\n",
    "\n",
    "vectorizer3 = TfidfVectorizer()\n",
    "X3 = vectorizer3.fit_transform(corpus_2)\n",
    "Y3 = vectorizer3.get_feature_names()\n",
    "Z3 = np.array(Y3)\n",
    "\n",
    "Z3 = Z3.reshape((1, len(Y3)))\n",
    "X3 = X3.toarray()\n",
    "\n",
    "X_train, X_test, y_train, y_test =  train_test_split(X3, y3, test_size=0.2, random_state=1)\n",
    "Train_NB.fit(X_train,y_train)\n",
    "\n",
    "predicted3= Train_NB.predict(X_test)\n",
    "\n",
    "corectness3 = accuracy_score(y_test,predicted3)\n",
    "print(f\"After using TFIDF, the accuracy of the Multinomial Naive Bayes Classifier without n_gram is:\", corectness3)"
   ]
  },
  {
   "cell_type": "markdown",
   "id": "b3a7a8f6",
   "metadata": {},
   "source": [
    "#### Step C: Using SVC (without N-grams)\n",
    "\n",
    "In this section, instead of using Naive Bayes Classifier, we will use Support Vector as our classifier."
   ]
  },
  {
   "cell_type": "code",
   "execution_count": 24,
   "id": "ef1799d1",
   "metadata": {},
   "outputs": [],
   "source": [
    "from sklearn.svm import SVC"
   ]
  },
  {
   "cell_type": "code",
   "execution_count": 25,
   "id": "fd4fbbdd",
   "metadata": {},
   "outputs": [],
   "source": [
    "Train_SVM = SVC()"
   ]
  },
  {
   "cell_type": "code",
   "execution_count": 26,
   "id": "fc251d08",
   "metadata": {},
   "outputs": [
    {
     "name": "stdout",
     "output_type": "stream",
     "text": [
      "After using TFIDF, the accuracy of the SVM Classifier without n_gram is: 0.8014440433212996\n"
     ]
    }
   ],
   "source": [
    "y4 = df['Sentiment']\n",
    "\n",
    "vectorizer4 = TfidfVectorizer()\n",
    "X4 = vectorizer4.fit_transform(corpus_2)\n",
    "Y4 = vectorizer4.get_feature_names()\n",
    "Z4 = np.array(Y4)\n",
    "\n",
    "Z4 = Z4.reshape((1, len(Y4)))\n",
    "X4 = X4.toarray()\n",
    "\n",
    "X_train, X_test, y_train, y_test =  train_test_split(X4, y4, test_size=0.2, random_state=1)\n",
    "Train_SVM.fit(X_train,y_train)\n",
    "\n",
    "predicted4 = Train_SVM.predict(X_test)\n",
    "\n",
    "corectness4 = accuracy_score(y_test,predicted4)\n",
    "print(f\"After using TFIDF, the accuracy of the SVM Classifier without n_gram is:\", corectness4)"
   ]
  },
  {
   "cell_type": "code",
   "execution_count": 27,
   "id": "c7028ff3",
   "metadata": {},
   "outputs": [
    {
     "name": "stdout",
     "output_type": "stream",
     "text": [
      "With CountVectorizer, the accuracy of the SVM Classifier without n_gram is 0.7942238267148014\n",
      "56.0\n"
     ]
    }
   ],
   "source": [
    "start = time.process_time()\n",
    "\n",
    "y5 = df['Sentiment']\n",
    "\n",
    "vectorizer5 = CountVectorizer()\n",
    "X5 = vectorizer5.fit_transform(corpus_2)\n",
    "Y5 = vectorizer5.get_feature_names()\n",
    "Z5 = np.array(Y5)\n",
    "\n",
    "Z5 = Z5.reshape((1, len(Y5)))\n",
    "X5 = X5.toarray()\n",
    "\n",
    "X_train, X_test, y_train, y_test =  train_test_split(X5, y5, test_size=0.2, random_state=1)\n",
    "Train_SVM.fit(X_train,y_train)\n",
    "\n",
    "predicted5 = Train_SVM.predict(X_test)\n",
    "\n",
    "corectness5 = accuracy_score(y_test,predicted5)\n",
    "print(f\"With CountVectorizer, the accuracy of the SVM Classifier without n_gram is\", corectness5)\n",
    "\n",
    "print(time.process_time() - start)"
   ]
  },
  {
   "cell_type": "markdown",
   "id": "433b04a2",
   "metadata": {},
   "source": [
    "#### Step C: Result Comparasion\n",
    "\n",
    "The below table shows the accuracy of different methods. The SVM-TFIDF method has the best performance (accuracy at 80.14%)\n",
    "Reference to visualization: (barchart and Boston, 2022)"
   ]
  },
  {
   "cell_type": "code",
   "execution_count": 28,
   "id": "22a59e1a",
   "metadata": {},
   "outputs": [
    {
     "data": {
      "text/plain": [
       "Text(0, 0.5, 'Accuary (%) \\n')"
      ]
     },
     "execution_count": 28,
     "metadata": {},
     "output_type": "execute_result"
    },
    {
     "data": {
      "image/png": "[encoded data removed]",
      "text/plain": [
       "<Figure size 1368x576 with 1 Axes>"
      ]
     },
     "metadata": {
      "needs_background": "light"
     },
     "output_type": "display_data"
    }
   ],
   "source": [
    "data = [['CountVectorizer',76.53],['CountVectorizer, N-gram (1,4)',77.62],['TFIDF, N-gram (1,4)',75.81], \n",
    "        ['TFIDF',78.70], ['CountVectorizer - SVM' ,79.42], \n",
    "        ['TFIDF - SVM', 80.14]]\n",
    "\n",
    "result = pd.DataFrame(data,columns=['Model','Accuracy'],dtype=float)\n",
    "\n",
    "plt.figure(figsize=(19,8))\n",
    "sns.set_context(font_scale=0.5)\n",
    "gfg = sns.barplot(x='Model',y='Accuracy', data=result)\n",
    "\n",
    "\n",
    "for p in gfg.patches:\n",
    "    gfg.annotate(\"%.2f\" % p.get_height(), (p.get_x() + p.get_width() / 2., p.get_height()),\n",
    "                ha='center', va='center', fontsize=13, color='black', xytext=(0, 20),\n",
    "                textcoords='offset points')\n",
    "\n",
    "\n",
    "gfg.set_ylim(60, 85)\n",
    "gfg.set_title('Accuray of different models \\n')\n",
    "gfg.set_ylabel('Accuary (%) \\n')\n"
   ]
  },
  {
   "cell_type": "markdown",
   "id": "bce583a1",
   "metadata": {},
   "source": [
    "#### Step D: Explaination"
   ]
  },
  {
   "cell_type": "markdown",
   "id": "11d47065",
   "metadata": {},
   "source": [
    "Based on the result, the SVM classifier brings us a more accurate result compared to the Naive Bayes Classifier. One of the potential reasons is that the Naive Bayes Classifier treats different words (features) independently, which may not be able to provide an accurate result when two words have a similar meaning. However, for SVM Classifier, it uses the hyperplane to divide to separate the data into different groups. It somehow looks at the interaction between words as the words with similar meanings would usually fall into the same group.\n",
    "Also, based on the previous empirical study, the Naive Bayes Classifier usually performs better in a sentence but SVM better in the paragraph. It aligns with our exercise. (In general, Heartnet and Goodman, 2022)\n",
    "\n",
    "Meanwhile, N-gram did not improve the performance significantly in our exercise, when we select the TFIDF to vectorize our features. The reason is that TFIDF gives a higher rating when a word or a pattern of words is rare across the different documents, which may bring us an overfitting case. When we use N-gram, it is easier to have a unique word pattern which causes an overfitting issue."
   ]
  },
  {
   "cell_type": "markdown",
   "id": "6d567a34",
   "metadata": {},
   "source": [
    "## Reference \n",
    "\n",
    "[1] barchart, D. and Boston, S., 2022. Displaying of values on barchart. [online] Stack Overflow. Available from: https://stackoverflow.com/questions/45946970/displaying-of-values-on-barchart [Accessed 11 Apr. 2022].\n",
    "\n",
    "[2] Anon, 2022. Confusion Matrix Visualization. [online] Medium. Available from: https://medium.com/@dtuk81/confusion-matrix-visualization-fc31e3f30fea [Accessed 11 Apr. 2022].\n",
    "\n",
    "[3] Anon, 2022. How to use CountVectorizer for n-gram analysis. [online] Practicaldatascience.co.uk. Available from: https://practicaldatascience.co.uk/machine-learning/how-to-use-count-vectorization-for-n-gram-analysis [Accessed 11 Apr. 2022].\n",
    "\n",
    "[4] In general, w., Heartnet, T. and Goodman, T., 2022. In general, when does TF-IDF reduce accuracy?. [online] Data Science Stack Exchange. Available from: https://datascience.stackexchange.com/questions/13660/in-general-when-does-tf-idf-reduce-accuracy [Accessed 11 Apr. 2022].\n",
    "\n",
    "[5] Rahman, S., Biplob, K., Rahman, M., Sarker, K. and Islam, T., 2020. An Investigation and Evaluation of N-Gram, TF-IDF and Ensemble Methods in Sentiment Classification. Cyber Security and Computer Science, pp.391-402."
   ]
  },
  {
   "cell_type": "code",
   "execution_count": null,
   "id": "aa908946",
   "metadata": {},
   "outputs": [],
   "source": []
  }
 ],
 "metadata": {
  "colab": {
   "collapsed_sections": [],
   "name": "Assignment 2 - Car reviews .ipynb",
   "provenance": []
  },
  "kernelspec": {
   "display_name": "Python 3 (ipykernel)",
   "language": "python",
   "name": "python3"
  },
  "language_info": {
   "codemirror_mode": {
    "name": "ipython",
    "version": 3
   },
   "file_extension": ".py",
   "mimetype": "text/x-python",
   "name": "python",
   "nbconvert_exporter": "python",
   "pygments_lexer": "ipython3",
   "version": "3.9.12"
  }
 },
 "nbformat": 4,
 "nbformat_minor": 5
}
